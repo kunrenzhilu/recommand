{
 "cells": [
  {
   "cell_type": "code",
   "execution_count": 27,
   "metadata": {},
   "outputs": [],
   "source": [
    "%reload_ext autoreload\n",
    "%autoreload 2\n",
    "import os\n",
    "import numpy as np\n",
    "import time\n",
    "os.environ['CUDA_VISIBLE_DEVICES'] = '1'\n",
    "import tensorflow as tf\n",
    "import pickle"
   ]
  },
  {
   "cell_type": "code",
   "execution_count": 58,
   "metadata": {},
   "outputs": [],
   "source": [
    "from recommand import get_recommandation_result, get_k_accuracy\n",
    "from utils import load_poi2region, get_sequences, digitize_datetime, group_data_by_id, \\\n",
    "    devide_train_and_test, get_ST_embeddings, get_emb_from_ckpt\n",
    "from tqdm import tqdm\n",
    "from dataloader import load_data, group_data_by_id\n",
    "from parser import get_parser\n",
    "from stsg_utils import save_emb_from_ckpt, load_model_tf\n",
    "from model import STSkipgram\n",
    "from stsg_parser import get_parser as model_parser"
   ]
  },
  {
   "cell_type": "code",
   "execution_count": 31,
   "metadata": {},
   "outputs": [],
   "source": [
    "args = get_parser(['--CITY', 'NYC'])\n",
    "args.pattern = 'hand'\n",
    "args.use_decay = True"
   ]
  },
  {
   "cell_type": "code",
   "execution_count": 8,
   "metadata": {},
   "outputs": [
    {
     "name": "stdout",
     "output_type": "stream",
     "text": [
      "Loading data from data/NYC_poi2region.pk\n"
     ]
    }
   ],
   "source": [
    "origin_data, dicts = load_data(os.path.join(args.ROOT, 'data','{}_INTV_processed_voc5_len2_setting_WITH_GPS_WITH_TIME_WITH_USERID.pk'.format(args.CITY) ))\n",
    "poi2region = load_poi2region(os.path.join('data', '{}_poi2region.pk'.format(args.CITY)))\n",
    "seqs = get_sequences(origin_data)\n",
    "trainset, testset = devide_train_and_test(seqs)"
   ]
  },
  {
   "cell_type": "code",
   "execution_count": null,
   "metadata": {},
   "outputs": [],
   "source": [
    "sem_dim = 50; geo_dim = 100-sem_dim\n",
    "logdir = os.path.join(args.ROOT, 'STSkipgram', 'benchmark')\n",
    "model_args = model_parser(['--CITY', 'NYC', '--LOG_DIR', logdir, '--geo_reg_type', 'xn',\\\n",
    "                           '--sem_dim', str(sem_dim), '--geo_dim', str(geo_dim)])"
   ]
  },
  {
   "cell_type": "code",
   "execution_count": null,
   "metadata": {},
   "outputs": [],
   "source": [
    "score = get_recommandation_result(testset, args, poi2region, get_emb_from_ckpt(model_args), mode='STSG')\n",
    "acc = get_k_accuracy(score)\n",
    "with open(os.path.join(model_args.LOG_DIR, 'accuracy.pk'), 'wb') as f:\n",
    "    pickle.dump(acc, f)"
   ]
  },
  {
   "cell_type": "markdown",
   "metadata": {},
   "source": [
    "---"
   ]
  },
  {
   "cell_type": "code",
   "execution_count": 10,
   "metadata": {},
   "outputs": [
    {
     "name": "stdout",
     "output_type": "stream",
     "text": [
      "Reading dadta from /home/haibin2/data/checkins/STSkipgram/benchmark/NYC_sem_emb.h5\n",
      "Reading dadta from /home/haibin2/data/checkins/STSkipgram/benchmark/NYC_embeddings.h5\n",
      "Reading dadta from /home/haibin2/data/checkins/STSkipgram/benchmark/NYC_time_embeddings.h5\n"
     ]
    }
   ],
   "source": [
    "sts, ste, stt = get_ST_embeddings(args)"
   ]
  },
  {
   "cell_type": "code",
   "execution_count": 23,
   "metadata": {},
   "outputs": [
    {
     "name": "stderr",
     "output_type": "stream",
     "text": [
      "100%|██████████| 208/208 [00:28<00:00,  7.37it/s]\n",
      "100%|██████████| 209/209 [00:30<00:00,  6.88it/s]\n",
      "100%|██████████| 209/209 [00:30<00:00,  6.75it/s]\n",
      "100%|██████████| 209/209 [00:31<00:00,  6.59it/s]\n",
      "100%|██████████| 209/209 [00:32<00:00,  6.45it/s]\n"
     ]
    },
    {
     "name": "stdout",
     "output_type": "stream",
     "text": [
      "Job Done, used time 32.700907707214355\n"
     ]
    }
   ],
   "source": [
    "r = multiprocess_recommand(args.nProcess, testset, args, poi2region, (sts, ste, stt), mode='STSG')"
   ]
  }
 ],
 "metadata": {
  "kernelspec": {
   "display_name": "py3_env",
   "language": "python",
   "name": "py3_env"
  },
  "language_info": {
   "codemirror_mode": {
    "name": "ipython",
    "version": 3
   },
   "file_extension": ".py",
   "mimetype": "text/x-python",
   "name": "python",
   "nbconvert_exporter": "python",
   "pygments_lexer": "ipython3",
   "version": "3.5.2"
  }
 },
 "nbformat": 4,
 "nbformat_minor": 2
}
